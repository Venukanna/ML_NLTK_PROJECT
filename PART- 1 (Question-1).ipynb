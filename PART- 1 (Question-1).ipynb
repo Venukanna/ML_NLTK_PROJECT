{
 "cells": [
  {
   "cell_type": "markdown",
   "id": "34f3af8c",
   "metadata": {},
   "source": [
    "# 1. Write a regex to extract all the numbers with orange color background from the below text in italics.\n"
   ]
  },
  {
   "cell_type": "markdown",
   "id": "77bc5157",
   "metadata": {},
   "source": [
    "{\"orders\":[{\"id\":1},{\"id\":2},{\"id\":3},{\"id\":4},{\"id\":5},{\"id\":6},{\"id\":7},{\"id\":8},{\"id\":9},{\"id\":10},{\"id\":11},{\"i\n",
    "d\":648},{\"id\":649},{\"id\":650},{\"id\":651},{\"id\":652},{\"id\":653}],\"errors\":[{\"code\":3,\"message\":\"[PHP\n",
    "Warning #2] count(): Parameter must be an array or an object that implements Countable\n",
    "(153)\"}]}"
   ]
  },
  {
   "cell_type": "code",
   "execution_count": 1,
   "id": "d389f947",
   "metadata": {},
   "outputs": [],
   "source": [
    "import numpy as np\n",
    "import pandas as pd\n",
    "import re"
   ]
  },
  {
   "cell_type": "code",
   "execution_count": 2,
   "id": "70977bc4",
   "metadata": {},
   "outputs": [],
   "source": [
    "str1 = '{\"orders\":[{\"id\":1},{\"id\":2},{\"id\":3},{\"id\":4},{\"id\":5},{\"id\":6},{\"id\":7},{\"id\":8},{\"id\":9},{\"id\":10},{\"id\":11},{\"id\":648},{\"id\":649},{\"id\":650},{\"id\":651},{\"id\":652},{\"id\":653}],\"errors\":[{\"code\":3,\"message\":\"[PHP Warning #2]count(): Parameter must be an array or an object that implements Countable(153)\"}]}'\n",
    "#search using regex"
   ]
  },
  {
   "cell_type": "code",
   "execution_count": 3,
   "id": "12f96e07",
   "metadata": {},
   "outputs": [],
   "source": [
    "x = re.findall(':[0-9]+', str1)"
   ]
  },
  {
   "cell_type": "code",
   "execution_count": 4,
   "id": "7558160d",
   "metadata": {},
   "outputs": [
    {
     "name": "stdout",
     "output_type": "stream",
     "text": [
      "['1', '2', '3', '4', '5', '6', '7', '8', '9', '10', '11', '648', '649', '650', '651', '652', '653', '3']\n"
     ]
    }
   ],
   "source": [
    "print([s.strip(':') for s in x])"
   ]
  },
  {
   "cell_type": "code",
   "execution_count": null,
   "id": "d7f7ab67",
   "metadata": {},
   "outputs": [],
   "source": []
  }
 ],
 "metadata": {
  "kernelspec": {
   "display_name": "Python 3",
   "language": "python",
   "name": "python3"
  },
  "language_info": {
   "codemirror_mode": {
    "name": "ipython",
    "version": 3
   },
   "file_extension": ".py",
   "mimetype": "text/x-python",
   "name": "python",
   "nbconvert_exporter": "python",
   "pygments_lexer": "ipython3",
   "version": "3.8.8"
  }
 },
 "nbformat": 4,
 "nbformat_minor": 5
}
